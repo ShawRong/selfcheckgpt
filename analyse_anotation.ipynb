{
 "cells": [
  {
   "cell_type": "code",
   "execution_count": 2,
   "metadata": {},
   "outputs": [],
   "source": [
    "import json\n",
    "\n",
    "# Load the JSONL file\n",
    "data = []\n",
    "with open('./input/en.jsonl', 'r') as file:\n",
    "    for line in file:\n",
    "        data.append(json.loads(line))\n",
    "\n",
    "# Now 'data' contains a list of dictionaries representing each JSON object"
   ]
  },
  {
   "cell_type": "code",
   "execution_count": 3,
   "metadata": {},
   "outputs": [
    {
     "data": {
      "text/plain": [
       "{'id': 'val-en-1',\n",
       " 'lang': 'EN',\n",
       " 'model_input': 'What did Petra van Staveren win a gold medal for?',\n",
       " 'model_output_text': 'Petra van Stoveren won a silver medal in the 2008 Summer Olympics in Beijing, China.',\n",
       " 'model_id': 'tiiuae/falcon-7b-instruct',\n",
       " 'soft_labels': [{'start': 10, 'prob': 0.2, 'end': 12},\n",
       "  {'start': 12, 'prob': 0.3, 'end': 13},\n",
       "  {'start': 13, 'prob': 0.2, 'end': 18},\n",
       "  {'start': 25, 'prob': 0.9, 'end': 31},\n",
       "  {'start': 31, 'prob': 0.1, 'end': 37},\n",
       "  {'start': 45, 'prob': 1.0, 'end': 49},\n",
       "  {'start': 49, 'prob': 0.3, 'end': 65},\n",
       "  {'start': 65, 'prob': 0.2, 'end': 69},\n",
       "  {'start': 69, 'prob': 0.9, 'end': 83}],\n",
       " 'hard_labels': [[25, 31], [45, 49], [69, 83]],\n",
       " 'model_output_logits': [-5.5669536591,\n",
       "  -11.90533638,\n",
       "  -13.0743436813,\n",
       "  -9.9514026642,\n",
       "  -8.8359375,\n",
       "  -5.2216725349,\n",
       "  -8.8481779099,\n",
       "  -9.2853775024,\n",
       "  -7.6449022293,\n",
       "  -8.7612609863,\n",
       "  -9.1256427765,\n",
       "  -5.7042989731,\n",
       "  -5.7393956184,\n",
       "  -8.409078598,\n",
       "  -10.6083183289,\n",
       "  -11.707988739,\n",
       "  -5.3747014999,\n",
       "  -6.5602250099,\n",
       "  -5.1362328529,\n",
       "  -5.7765812874,\n",
       "  -8.4669551849,\n",
       "  -8.3430461884,\n",
       "  -8.7018699646],\n",
       " 'model_output_tokens': ['Pet',\n",
       "  'ra',\n",
       "  'Ġvan',\n",
       "  'ĠSto',\n",
       "  've',\n",
       "  'ren',\n",
       "  'Ġwon',\n",
       "  'Ġa',\n",
       "  'Ġsilver',\n",
       "  'Ġmedal',\n",
       "  'Ġin',\n",
       "  'Ġthe',\n",
       "  'Ġ',\n",
       "  '200',\n",
       "  '8',\n",
       "  'ĠSummer',\n",
       "  'ĠOlympics',\n",
       "  'Ġin',\n",
       "  'ĠBeijing',\n",
       "  ',',\n",
       "  'ĠChina',\n",
       "  '.',\n",
       "  '<|endoftext|>']}"
      ]
     },
     "execution_count": 3,
     "metadata": {},
     "output_type": "execute_result"
    }
   ],
   "source": [
    "example = data[0]\n",
    "example"
   ]
  },
  {
   "cell_type": "code",
   "execution_count": 4,
   "metadata": {},
   "outputs": [],
   "source": [
    "keys = example.keys()\n",
    "#'id', 'model_input', 'model_output_text', 'model_id'"
   ]
  },
  {
   "cell_type": "code",
   "execution_count": 42,
   "metadata": {},
   "outputs": [
    {
     "name": "stdout",
     "output_type": "stream",
     "text": [
      "['There', ' are', ' typically', ' four', ' stages', ' in', ' labour', ':', ' the', ' early', ' labour', ' stage', ',', ' the', ' active', ' labour', ' phase', ',', ' transition', ',', ' and', ' delivery', '.', '<|endoftext|>']\n"
     ]
    },
    {
     "data": {
      "text/plain": [
       "['There are typically four stages in labour: ',\n",
       " 'the ',\n",
       " 'early labour',\n",
       " ' stage',\n",
       " ', the ',\n",
       " 'active labou',\n",
       " 'r phase, ',\n",
       " 'transition',\n",
       " ', and ',\n",
       " 'delivery']"
      ]
     },
     "execution_count": 42,
     "metadata": {},
     "output_type": "execute_result"
    }
   ],
   "source": [
    "example = data[9]\n",
    "soft_labels = example['soft_labels']\n",
    "model_output_text = example['model_output_text']\n",
    "model_output_text_token = example['model_output_tokens']\n",
    "segs = []\n",
    "for soft_label in soft_labels:\n",
    "    start = soft_label['start']\n",
    "    end = soft_label['end']\n",
    "    seg = model_output_text[start:end]\n",
    "    segs.append(seg)\n",
    "striped_token = []\n",
    "for token in model_output_text_token:\n",
    "    token = token.replace('\\u0120', ' ') \n",
    "    striped_token.append(token)\n",
    "print(striped_token)\n",
    "segs\n"
   ]
  },
  {
   "cell_type": "code",
   "execution_count": 43,
   "metadata": {},
   "outputs": [
    {
     "data": {
      "text/plain": [
       "['the early labour stage, the active labour phase, transition, and delivery']"
      ]
     },
     "execution_count": 43,
     "metadata": {},
     "output_type": "execute_result"
    }
   ],
   "source": [
    "\n",
    "hard_labels = example['hard_labels']\n",
    "model_output_text = example['model_output_text']\n",
    "model_output_text_token = example['model_output_tokens']\n",
    "segs_hard = []\n",
    "for hard_label in hard_labels:\n",
    "    start = hard_label[0]\n",
    "    end = hard_label[1]\n",
    "    seg = model_output_text[start:end]\n",
    "    segs_hard.append(seg)\n",
    "segs_hard"
   ]
  },
  {
   "cell_type": "code",
   "execution_count": null,
   "metadata": {},
   "outputs": [],
   "source": []
  }
 ],
 "metadata": {
  "kernelspec": {
   "display_name": "base",
   "language": "python",
   "name": "python3"
  },
  "language_info": {
   "codemirror_mode": {
    "name": "ipython",
    "version": 3
   },
   "file_extension": ".py",
   "mimetype": "text/x-python",
   "name": "python",
   "nbconvert_exporter": "python",
   "pygments_lexer": "ipython3",
   "version": "3.12.2"
  }
 },
 "nbformat": 4,
 "nbformat_minor": 2
}
